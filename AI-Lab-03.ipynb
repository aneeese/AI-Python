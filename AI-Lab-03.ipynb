{
 "cells": [
  {
   "cell_type": "code",
   "execution_count": 13,
   "metadata": {},
   "outputs": [
    {
     "name": "stdout",
     "output_type": "stream",
     "text": [
      "['Arad', 'Sibiu', 'Fagaras', 'Bucharest']\n"
     ]
    }
   ],
   "source": [
    "# Graded Activity 01\n",
    "\n",
    "class Node:\n",
    "    def __init__(self, state, parent, action):\n",
    "        self.state = state\n",
    "        self.parent = parent\n",
    "        self.action = action\n",
    "        \n",
    "def actionSequence(graph, goalState):\n",
    "    solution = [goalState]\n",
    "    currentParent = graph[goalState].parent\n",
    "    while currentParent != None:\n",
    "        solution.append(currentParent)\n",
    "        currentParent = graph[currentParent].parent\n",
    "    solution.reverse()\n",
    "    return solution\n",
    "\n",
    "def BFS():\n",
    "    initialState = 'Arad'\n",
    "    goalState = 'Bucharest'\n",
    "    graph = {\n",
    "        'Oradea': Node('Oradea', None, ['Zerind','Sibiu']),\n",
    "        'Zerind': Node('Zerind', None, ['Oradea', 'Arad']),\n",
    "        'Arad': Node('Arad', None, ['Zerind', 'Timisoara','Sibiu']),\n",
    "        'Timisoara': Node('Timisoara', None, ['Arad', 'Lugoj']),\n",
    "        'Lugoj': Node('Lugoj', None, ['Timisoara', 'Mehadia']),\n",
    "        'Mehadia': Node('Mehadia', None, ['Lugoj','Drobeta']),\n",
    "        'Drobeta': Node('Drobeta', None, ['Mehadia','Craiova']),\n",
    "        'Sibiu': Node('Sibiu', None, ['Oradea', 'Zerind', 'Rimnicu Vilcea','Fagaras']),\n",
    "        'Rimnicu Vilcea': Node('Rimnicu Vilcea', None, ['Sibiu', 'Pitesti', 'Craiova']),\n",
    "        'Pitesti': Node('Pitesti', None, ['Rimnicu Vilcea', 'Craiova', 'Bucharest']),\n",
    "        'Fagaras': Node('Fagaras', None, ['Sibiu', 'Bucharest']),\n",
    "        'Craiova': Node('Craiova', None, ['Drobeta', 'Rimnicu Vilcea', 'Pitesti']),\n",
    "        'Giurgiu': Node('Giurgiu', None, ['Bucharest']),\n",
    "        'Bucharest': Node('Bucharest', None, ['Pitesti', 'Fagaras', 'Urziceni','Giurgiu']),\n",
    "        'Urziceni': Node('Urziceni', None, ['Bucharest', 'Hirsova', 'Vaslui']),\n",
    "        'Hirsova': Node('Hirsova', None, ['Urziceni', 'Eforie']),\n",
    "        'Eforie': Node('Eforie', None, ['Hirsova']),\n",
    "        'Vaslui': Node('Vaslui', None, ['Urziceni','Iasi']),\n",
    "        'Iasi': Node('Iasi', None, ['Vaslui', 'Neamt']),\n",
    "        'Neamt': Node('Neamt', None, ['Iasi'])\n",
    "    }\n",
    "    frontier = [initialState]\n",
    "    explored = []\n",
    "    \n",
    "    while(len(frontier) != 0):\n",
    "        currentNode = frontier.pop()\n",
    "        explored.append(currentNode)\n",
    "        \n",
    "        for child in graph[currentNode].action:\n",
    "            if child not in frontier and child not in explored: # is it a new node?\n",
    "                graph[child].parent = currentNode\n",
    "                if graph[child].state == goalState:\n",
    "                    return actionSequence(graph, goalState)\n",
    "                frontier.append(child)\n",
    "                \n",
    "solution = BFS()\n",
    "print(solution)"
   ]
  },
  {
   "cell_type": "code",
   "execution_count": 16,
   "metadata": {},
   "outputs": [
    {
     "name": "stdout",
     "output_type": "stream",
     "text": [
      "['A', 'B', 'C', 'D', 'P', 'Q', 'R', 'T', 'U', 'V', 'W', 'X', 'O', 'Z']\n"
     ]
    }
   ],
   "source": [
    "# Graded Activity 02\n",
    "\n",
    "class Node:\n",
    "    def __init__(self, state, parent, action):\n",
    "        self.state = state\n",
    "        self.parent = parent\n",
    "        self.action = action\n",
    "        \n",
    "def actionSequence(graph, goalState):\n",
    "    solution = [goalState]\n",
    "    currentParent = graph[goalState].parent\n",
    "    while currentParent != None:\n",
    "        solution.append(currentParent)\n",
    "        currentParent = graph[currentParent].parent\n",
    "    solution.reverse()\n",
    "    return solution\n",
    "\n",
    "def BFS():\n",
    "    initialState = 'A'\n",
    "    goalState = 'Z'\n",
    "    graph = {\n",
    "        'A': Node('A', None, ['B']),\n",
    "        'B': Node('B', None, ['A', 'C']),\n",
    "        'C': Node('C', None, ['B', 'D']),\n",
    "        'D': Node('D', None, ['E', 'P']),\n",
    "        'E': Node('E', None, ['F', 'D']),\n",
    "        'F': Node('F', None, ['G', 'E']),\n",
    "        'G': Node('G', None, ['H', 'F']),\n",
    "        'H': Node('H', None, ['I', 'G']),\n",
    "        'I': Node('G', None, ['J', 'H']),\n",
    "        'J': Node('J', None, ['I', 'K']),\n",
    "        'K': Node('K', None, ['J', 'L']),\n",
    "        'L': Node('L', None, ['K', 'M']),\n",
    "        'M': Node('M', None, ['L', 'N']),\n",
    "        'N': Node('N', None, ['O', 'M']),\n",
    "        'O': Node('O', None, ['Z', 'X']),\n",
    "        'P': Node('P', None, ['D', 'Q']),\n",
    "        'Q': Node('Q', None, ['S', 'R']),\n",
    "        'R': Node('R', None, ['Q', 'T']),\n",
    "        'S': Node('S', None, ['Q', 'T']),\n",
    "        'T': Node('T', None, ['R', 'U']),\n",
    "        'U': Node('U', None, ['V', 'T']),\n",
    "        'V': Node('V', None, ['U', 'Y', 'W']),\n",
    "        'W': Node('W', None, ['V', 'X']),\n",
    "        'X': Node('X', None, ['O', 'W']),\n",
    "        'Y': Node('Y', None, ['V']),\n",
    "        'Z': Node('Z', None, ['O'])\n",
    "    }\n",
    "    frontier = [initialState]\n",
    "    explored = []\n",
    "    \n",
    "    while(len(frontier) != 0):\n",
    "        currentNode = frontier.pop()\n",
    "        explored.append(currentNode)\n",
    "        \n",
    "        for child in graph[currentNode].action:\n",
    "            if child not in frontier and child not in explored: # is it a new node?\n",
    "                graph[child].parent = currentNode\n",
    "                if graph[child].state == goalState:\n",
    "                    return actionSequence(graph, goalState)\n",
    "                frontier.append(child)\n",
    "                \n",
    "solution = BFS()\n",
    "print(solution)"
   ]
  }
 ],
 "metadata": {
  "kernelspec": {
   "display_name": "Python 3.10.7 64-bit (microsoft store)",
   "language": "python",
   "name": "python3"
  },
  "language_info": {
   "codemirror_mode": {
    "name": "ipython",
    "version": 3
   },
   "file_extension": ".py",
   "mimetype": "text/x-python",
   "name": "python",
   "nbconvert_exporter": "python",
   "pygments_lexer": "ipython3",
   "version": "3.10.8"
  },
  "orig_nbformat": 4,
  "vscode": {
   "interpreter": {
    "hash": "3c04d9cdb8b061e62a13c55916e47b4b17e40e8bc7fae3a149ed0086f03717bd"
   }
  }
 },
 "nbformat": 4,
 "nbformat_minor": 2
}
