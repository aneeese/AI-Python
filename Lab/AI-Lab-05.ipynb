{
 "cells": [
  {
   "cell_type": "code",
   "execution_count": 3,
   "metadata": {},
   "outputs": [
    {
     "name": "stdout",
     "output_type": "stream",
     "text": [
      "['Arad', 'Sibiu', 'Rimnicu Vilcea', 'Pitesti', 'Bucharest']\n"
     ]
    }
   ],
   "source": [
    "import math\n",
    "\n",
    "class Node:\n",
    "    def __init__(self, state, parent, actions, totalCost):\n",
    "        self.state = state\n",
    "        self.parent = parent\n",
    "        self.actions = actions\n",
    "        self.totalCost = totalCost\n",
    "\n",
    "def findMin(frontier):\n",
    "    minV = math.inf\n",
    "    node = ''\n",
    "    for i in frontier:\n",
    "        if minV > frontier[i][1]:\n",
    "            minV = frontier[i][1]\n",
    "            node = i\n",
    "    return node\n",
    "\n",
    "def actionSequence(graph, goalState):\n",
    "    solution = [goalState]\n",
    "    currentParent = graph[goalState].parent\n",
    "    while currentParent != None:\n",
    "        solution.append(currentParent)\n",
    "        currentParent = graph[currentParent].parent\n",
    "    solution.reverse()\n",
    "    return solution\n",
    "\n",
    "def UCS():\n",
    "    initialState = 'Arad'\n",
    "    goalState = 'Bucharest'\n",
    "    graph = {\n",
    "        'Oradea': Node('Oradea', None, [('Zerind', 71), ('Sibiu', 151)], 0),\n",
    "        'Zerind': Node('Zerind', None, [('Oradea', 71), ('Arad', 75)], 0),\n",
    "        'Arad': Node('Arad', None, [('Zerind', 75), ('Timisoara', 118), ('Sibiu', 140)], 0),\n",
    "        'Timisoara': Node('Timisoara', None, [('Arad', 118), ('Lugoj', 111)], 0),\n",
    "        'Lugoj': Node('Lugoj', None, [('Timisoara', 111), ('Mehadia', 70)], 0),\n",
    "        'Mehadia': Node('Mehadia', None, [('Lugoj', 70), ('Drobeta', 75)], 0),\n",
    "        'Drobeta': Node('Drobeta', None, [('Mehadia', 75), ('Craiova', 120)], 0),\n",
    "        'Sibiu': Node('Sibiu', None, [('Oradea', 151), ('Rimnicu Vilcea', 80), ('Fagaras', 99), ('Arad', 140)], 0),\n",
    "        'Rimnicu Vilcea': Node('Rimnicu Vilcea', None, [('Sibiu', 80), ('Pitesti', 97), ('Craiova', 146)], 0),\n",
    "        'Pitesti': Node('Pitesti', None, [('Rimnicu Vilcea', 97), ('Craiova', 138), ('Bucharest', 101)], 0),\n",
    "        'Fagaras': Node('Fagaras', None, [('Sibiu', 99), ('Bucharest', 211)], 0),\n",
    "        'Craiova': Node('Craiova', None, [('Drobeta', 120), ('Rimnicu Vilcea', 146), ('Pitesti', 138)], 0),\n",
    "        'Giurgiu': Node('Giurgiu', None, [('Bucharest', 90)], 0),\n",
    "        'Bucharest': Node('Bucharest', None, [('Pitesti', 101), ('Fagaras', 211), ('Urziceni', 85), ('Giurgiu', 90)], 0),\n",
    "        'Urziceni': Node('Urziceni', None, [('Bucharest', 85), ('Hirsova', 98), ('Vaslui', 142)], 0),\n",
    "        'Hirsova': Node('Hirsova', None, [('Urziceni', 98), ('Eforie', 86)], 0),\n",
    "        'Eforie': Node('Eforie', None, [('Hirsova', 86)], 0),\n",
    "        'Vaslui': Node('Vaslui', None, [('Urziceni', 142), ('Iasi', 92)], 0),\n",
    "        'Iasi': Node('Iasi', None, [('Vaslui', 92), ('Neamt', 87)], 0),\n",
    "        'Neamt': Node('Neamt', None, [('Iasi', 87)], 0)\n",
    "    }\n",
    "    \n",
    "    frontier = dict()\n",
    "    frontier[initialState] = (None, 0)\n",
    "    explored = []\n",
    "    while len(frontier) != 0:\n",
    "        currentNode = findMin(frontier)\n",
    "        del frontier[currentNode]\n",
    "        if graph[currentNode].state == goalState:\n",
    "            return actionSequence(graph, goalState)\n",
    "        explored.append(currentNode)\n",
    "        for child in graph[currentNode].actions:\n",
    "            currentCost = child[1] + graph[currentNode].totalCost\n",
    "            if child[0] not in frontier and child[0] not in explored:\n",
    "                graph[child[0]].parent = currentNode\n",
    "                graph[child[0]].totalCost = currentCost\n",
    "                frontier[child[0]] = (graph[child[0]].parent, graph[child[0]].totalCost)\n",
    "            elif child[0] in frontier:\n",
    "                if frontier[child[0]][1] < currentCost:\n",
    "                    graph[child[0]].parent = frontier[child[0]][0]\n",
    "                    graph[child[0]].totalCost = frontier[child[0]][1]\n",
    "                else:\n",
    "                    frontier[child[0]] = (currentNode, currentCost)\n",
    "                    graph[child[0]].parent = frontier[child[0]][0]\n",
    "                    graph[child[0]].totalCost = frontier[child[0]][1]\n",
    "                    \n",
    "solution = UCS()\n",
    "print(solution)\n"
   ]
  }
 ],
 "metadata": {
  "kernelspec": {
   "display_name": "Python 3.10.7 64-bit (microsoft store)",
   "language": "python",
   "name": "python3"
  },
  "language_info": {
   "codemirror_mode": {
    "name": "ipython",
    "version": 3
   },
   "file_extension": ".py",
   "mimetype": "text/x-python",
   "name": "python",
   "nbconvert_exporter": "python",
   "pygments_lexer": "ipython3",
   "version": "3.10.9 (tags/v3.10.9:1dd9be6, Dec  6 2022, 20:01:21) [MSC v.1934 64 bit (AMD64)]"
  },
  "orig_nbformat": 4,
  "vscode": {
   "interpreter": {
    "hash": "3c04d9cdb8b061e62a13c55916e47b4b17e40e8bc7fae3a149ed0086f03717bd"
   }
  }
 },
 "nbformat": 4,
 "nbformat_minor": 2
}
