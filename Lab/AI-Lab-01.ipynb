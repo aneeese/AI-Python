{
 "cells": [
  {
   "cell_type": "code",
   "execution_count": 4,
   "metadata": {},
   "outputs": [
    {
     "name": "stdout",
     "output_type": "stream",
     "text": [
      "Even number\n"
     ]
    }
   ],
   "source": [
    "# Question 01\n",
    "\n",
    "n = input(\"Enter a number: \")\n",
    "if int(n) % 2 == 0:\n",
    "    print(\"Even number\")\n",
    "else:\n",
    "    print(\"Not an even\")"
   ]
  },
  {
   "cell_type": "code",
   "execution_count": 5,
   "metadata": {},
   "outputs": [
    {
     "name": "stdout",
     "output_type": "stream",
     "text": [
      "Sum of entered value is:  30\n"
     ]
    }
   ],
   "source": [
    "# Question 02\n",
    "\n",
    "sum = 0\n",
    "s = int(input(\"Enter an integer value: \"))\n",
    "while s != 0:\n",
    "    sum += s\n",
    "    s = int(input(\"Enter an integer value: \"))\n",
    "    \n",
    "print(\"Sum of entered value is: \", sum)"
   ]
  },
  {
   "cell_type": "code",
   "execution_count": null,
   "metadata": {},
   "outputs": [],
   "source": [
    "# Question 03\n",
    "\n",
    "isPrime = True\n",
    "b = 2\n",
    "a = int(input(\"Enter a number: \"))\n",
    "while b < a:\n",
    "    remainder = a % b\n",
    "    if remainder == 0:\n",
    "        isPrime = False\n",
    "        break\n",
    "    else:\n",
    "        b += 1\n",
    "if isPrime:\n",
    "    print(\"Prime Number\")\n",
    "else:\n",
    "    print(\"Not a prime number\")"
   ]
  },
  {
   "cell_type": "code",
   "execution_count": 7,
   "metadata": {},
   "outputs": [
    {
     "name": "stdout",
     "output_type": "stream",
     "text": [
      "Sum of five integers is:  15\n"
     ]
    }
   ],
   "source": [
    "# Question # 04\n",
    "sum = 0\n",
    "n = 0\n",
    "while n <= 4:\n",
    "    sum += int(input(\"Enter a number: \"))\n",
    "    n += 1\n",
    "print(\"Sum of five integers is: \", sum)"
   ]
  },
  {
   "cell_type": "code",
   "execution_count": 10,
   "metadata": {},
   "outputs": [
    {
     "name": "stdout",
     "output_type": "stream",
     "text": [
      "Sum of first ten numbers is  55\n"
     ]
    }
   ],
   "source": [
    "# Question 05\n",
    "\n",
    "sum = 0\n",
    "i = 1\n",
    "while i <= 10:\n",
    "    sum += i\n",
    "    i += 1\n",
    "print(\"Sum of first ten numbers is \", sum); "
   ]
  },
  {
   "cell_type": "code",
   "execution_count": null,
   "metadata": {},
   "outputs": [],
   "source": [
    "# Question 06\n",
    "\n",
    "name = input(\"What is your name?\")\n",
    "print(\"Hello\", name)\n",
    "job = input(\"What is your job name?\")\n",
    "print(\"Your job is\", job)\n",
    "num = input(\"Give me a number?\")\n",
    "print(\"Your number is\", num)"
   ]
  },
  {
   "cell_type": "code",
   "execution_count": null,
   "metadata": {},
   "outputs": [],
   "source": [
    "# Question 07\n",
    "\n",
    "import random\n",
    "\n",
    "MINIMUM = 1\n",
    "MAXIMUM = 9\n",
    "NUMBER = random.randint(MINIMUM, MAXIMUM)\n",
    "GUESS = None\n",
    "ANOTHER = None\n",
    "TRY = 0\n",
    "RUNNING = True\n",
    "\n",
    "print (\"Alright...\")\n",
    "\n",
    "while RUNNING:\n",
    "    GUESS = input(\"What is your lucky number? \")\n",
    "    if int(GUESS) < NUMBER:\n",
    "        print (\"Wrong, too low.\")\n",
    "        \n",
    "    elif int(GUESS) > NUMBER:\n",
    "        print (\"Wrong, too high.\")\n",
    "    elif GUESS.lower() == \"exit\":\n",
    "        print (\"Better luck next time.\")\n",
    "    elif int(GUESS) == NUMBER:\n",
    "        print (\"Yes, that's the one, %s.\" % str(NUMBER))\n",
    "        if TRY < 2:\n",
    "            print( \"Impressive, only %s tries.\" % str(TRY))\n",
    "        elif TRY > 2 and TRY < 10:\n",
    "            print (\"Pretty good, %s tries.\" % str(TRY))\n",
    "        else:\n",
    "            print (\"Bad, %s tries.\" % str(TRY))\n",
    "        RUNNING = False\n",
    "    TRY += 1"
   ]
  },
  {
   "cell_type": "code",
   "execution_count": 27,
   "metadata": {},
   "outputs": [
    {
     "name": "stdout",
     "output_type": "stream",
     "text": [
      "54321"
     ]
    }
   ],
   "source": [
    "# Graded 01\n",
    "\n",
    "integer = str(input(\"Enter an interger to be reversed: \"))\n",
    "n = len(integer) - 1\n",
    "while n >= 0:\n",
    "    print(integer[n], end=\"\")\n",
    "    n -= 1"
   ]
  },
  {
   "cell_type": "code",
   "execution_count": 1,
   "metadata": {},
   "outputs": [
    {
     "name": "stdout",
     "output_type": "stream",
     "text": [
      "Sum of even values 0\n",
      "Sum of odd entries  6\n"
     ]
    }
   ],
   "source": [
    "# Graded 02\n",
    "\n",
    "sumOfEven = 0\n",
    "sumOfOdd = 0\n",
    "i = 0\n",
    "while i < 6:\n",
    "    n = int(input(\"Enter an integer: \"))\n",
    "    if n % 2 == 0:\n",
    "        sumOfEven += n\n",
    "    else:\n",
    "        sumOfOdd += n\n",
    "    i += 1\n",
    "        \n",
    "print(\"Sum of even entries\", sumOfEven)\n",
    "print(\"Sum of odd entries\", sumOfOdd) "
   ]
  },
  {
   "cell_type": "code",
   "execution_count": null,
   "metadata": {},
   "outputs": [],
   "source": [
    "# Geaded 03\n",
    "\n",
    "num = int(input(\"Enter no. of terms: \"))\n",
    "n1, n2 = 0, 1\n",
    "count = 0\n",
    "while count < num:\n",
    "    print(n1)\n",
    "    new = n1 + n2\n",
    "    n1 = n2\n",
    "    n2 = new\n",
    "    count += 1"
   ]
  },
  {
   "cell_type": "code",
   "execution_count": 12,
   "metadata": {},
   "outputs": [
    {
     "name": "stdout",
     "output_type": "stream",
     "text": [
      "Grade D\n"
     ]
    }
   ],
   "source": [
    "# Graded 04\n",
    "\n",
    "marks = int(input(\"Enter marks between 1-100: \"))\n",
    "if (marks < 0 or marks > 100):\n",
    "    print(\"Enter marks between 0 and 100\")\n",
    "else:\n",
    "    if (marks < 50):\n",
    "        print(\"Grade F\")\n",
    "    elif (marks > 50 and marks <= 60):\n",
    "        print(\"Grade E\")\n",
    "    elif (marks > 60 and marks <= 70):\n",
    "        print(\"Grade D\")\n",
    "    elif (marks > 70 and marks <= 80):\n",
    "        print(\"Grade C\")\n",
    "    elif (marks > 80 and marks <= 90):\n",
    "        print(\"Grade B\")\n",
    "    elif (marks > 90):\n",
    "        print(\"Grade A\")"
   ]
  },
  {
   "cell_type": "code",
   "execution_count": 16,
   "metadata": {},
   "outputs": [
    {
     "name": "stdout",
     "output_type": "stream",
     "text": [
      "Factorail of 7 is 5040\n"
     ]
    }
   ],
   "source": [
    "# Graded 05\n",
    "\n",
    "num = int(input(\"Enter a number: \"))\n",
    "factorial = 1\n",
    "if (num == 0):\n",
    "    print(\"Factorial of 0 is 1\")\n",
    "else:\n",
    "    for i in range(1, num + 1):\n",
    "        factorial = factorial * i\n",
    "print(\"Factorail of\", num, \"is\", factorial)"
   ]
  }
 ],
 "metadata": {
  "kernelspec": {
   "display_name": "Python 3.10.7 64-bit (microsoft store)",
   "language": "python",
   "name": "python3"
  },
  "language_info": {
   "codemirror_mode": {
    "name": "ipython",
    "version": 3
   },
   "file_extension": ".py",
   "mimetype": "text/x-python",
   "name": "python",
   "nbconvert_exporter": "python",
   "pygments_lexer": "ipython3",
   "version": "3.10.7"
  },
  "orig_nbformat": 4,
  "vscode": {
   "interpreter": {
    "hash": "3c04d9cdb8b061e62a13c55916e47b4b17e40e8bc7fae3a149ed0086f03717bd"
   }
  }
 },
 "nbformat": 4,
 "nbformat_minor": 2
}
