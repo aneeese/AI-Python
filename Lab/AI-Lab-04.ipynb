{
 "cells": [
  {
   "cell_type": "code",
   "execution_count": 4,
   "metadata": {},
   "outputs": [
    {
     "name": "stdout",
     "output_type": "stream",
     "text": [
      "['A', 'E', 'D']\n"
     ]
    }
   ],
   "source": [
    "# Solved Exercise\n",
    "\n",
    "class Node:\n",
    "    def __init__(self, state, parent, actions):\n",
    "        self.state = state\n",
    "        self.parent = parent\n",
    "        self.actions = actions\n",
    "\n",
    "def actionSequence(graph, initialState, goalState):\n",
    "    solution = [goalState]\n",
    "    currentParent = graph[goalState].parent\n",
    "    while currentParent != None:\n",
    "        solution.append(currentParent)\n",
    "        currentParent = graph[currentParent].parent\n",
    "    solution.reverse()\n",
    "    return solution\n",
    "        \n",
    "def DFS():\n",
    "    initialState = 'A'\n",
    "    goalState = 'D'\n",
    "    graph = {\n",
    "        'A': Node('A', None, ['B', 'E', 'C']),\n",
    "        'B': Node('B', None, ['D', 'E', 'A']),\n",
    "        'C': Node('C', None, ['A', 'F', 'G']),\n",
    "        'D': Node('D', None, ['B', 'E']),\n",
    "        'E': Node('E', None, ['A', 'B', 'D']),\n",
    "        'F': Node('F', None, ['C']),\n",
    "        'G': Node('G', None, ['C']),\n",
    "    }\n",
    "    \n",
    "    frontier = [initialState]\n",
    "    explored = []\n",
    "    while len(frontier) != 0:\n",
    "        currentNode = frontier.pop(len(frontier) - 1)\n",
    "        explored.append(currentNode)\n",
    "        currentChildren = 0\n",
    "        for child in graph[currentNode].actions:\n",
    "            if child not in frontier and child not in explored:\n",
    "                graph[child].parent = currentNode\n",
    "                if graph[child].state == goalState:\n",
    "                    return actionSequence(graph, initialState, goalState)\n",
    "                currentChildren = currentChildren + 1\n",
    "                frontier.append(child)\n",
    "        if currentChildren == 0:\n",
    "            del explored[len(explored) - 1]\n",
    "\n",
    "solution = DFS()\n",
    "print(solution)"
   ]
  },
  {
   "cell_type": "code",
   "execution_count": 5,
   "metadata": {},
   "outputs": [
    {
     "name": "stdout",
     "output_type": "stream",
     "text": [
      "['Arad', 'Sibiu', 'Fagaras', 'Bucharest']\n"
     ]
    }
   ],
   "source": [
    "# Graded Lab Task\n",
    "\n",
    "class Node:\n",
    "    def __init__(self, state, parent, actions):\n",
    "        self.state = state\n",
    "        self.parent = parent\n",
    "        self.actions = actions\n",
    "\n",
    "def actionSequence(graph, initialState, goalState):\n",
    "    solution = [goalState]\n",
    "    currentParent = graph[goalState].parent\n",
    "    while currentParent != None:\n",
    "        solution.append(currentParent)\n",
    "        currentParent = graph[currentParent].parent\n",
    "    solution.reverse()\n",
    "    return solution\n",
    "        \n",
    "def DFS():\n",
    "    initialState = 'Arad'\n",
    "    goalState = 'Bucharest'\n",
    "    graph = {\n",
    "        'Oradea': Node('Oradea', None, ['Zerind','Sibiu']),\n",
    "        'Zerind': Node('Zerind', None, ['Oradea', 'Arad']),\n",
    "        'Arad': Node('Arad', None, ['Zerind', 'Timisoara','Sibiu']),\n",
    "        'Timisoara': Node('Timisoara', None, ['Arad', 'Lugoj']),\n",
    "        'Lugoj': Node('Lugoj', None, ['Timisoara', 'Mehadia']),\n",
    "        'Mehadia': Node('Mehadia', None, ['Lugoj','Drobeta']),\n",
    "        'Drobeta': Node('Drobeta', None, ['Mehadia','Craiova']),\n",
    "        'Sibiu': Node('Sibiu', None, ['Oradea', 'Arad', 'Rimnicu Vilcea','Fagaras']),\n",
    "        'Rimnicu Vilcea': Node('Rimnicu Vilcea', None, ['Sibiu', 'Pitesti', 'Craiova']),\n",
    "        'Pitesti': Node('Pitesti', None, ['Rimnicu Vilcea', 'Craiova', 'Bucharest']),\n",
    "        'Fagaras': Node('Fagaras', None, ['Sibiu', 'Bucharest']),\n",
    "        'Craiova': Node('Craiova', None, ['Drobeta', 'Rimnicu Vilcea', 'Pitesti']),\n",
    "        'Giurgiu': Node('Giurgiu', None, ['Bucharest']),\n",
    "        'Bucharest': Node('Bucharest', None, ['Pitesti', 'Fagaras', 'Urziceni','Giurgiu']),\n",
    "        'Urziceni': Node('Urziceni', None, ['Bucharest', 'Hirsova', 'Vaslui']),\n",
    "        'Hirsova': Node('Hirsova', None, ['Urziceni', 'Eforie']),\n",
    "        'Eforie': Node('Eforie', None, ['Hirsova']),\n",
    "        'Vaslui': Node('Vaslui', None, ['Urziceni','Iasi']),\n",
    "        'Iasi': Node('Iasi', None, ['Vaslui', 'Neamt']),\n",
    "        'Neamt': Node('Neamt', None, ['Iasi'])\n",
    "    }\n",
    "    \n",
    "    frontier = [initialState]\n",
    "    explored = []\n",
    "    while len(frontier) != 0:\n",
    "        currentNode = frontier.pop(len(frontier) - 1)\n",
    "        explored.append(currentNode)\n",
    "        currentChildren = 0\n",
    "        for child in graph[currentNode].actions:\n",
    "            if child not in frontier and child not in explored:\n",
    "                graph[child].parent = currentNode\n",
    "                if graph[child].state == goalState:\n",
    "                    return actionSequence(graph, initialState, goalState)\n",
    "                currentChildren = currentChildren + 1\n",
    "                frontier.append(child)\n",
    "        if currentChildren == 0:\n",
    "            del explored[len(explored) - 1]\n",
    "\n",
    "solution = DFS()\n",
    "print(solution)"
   ]
  }
 ],
 "metadata": {
  "kernelspec": {
   "display_name": "Python 3.10.7 64-bit (microsoft store)",
   "language": "python",
   "name": "python3"
  },
  "language_info": {
   "codemirror_mode": {
    "name": "ipython",
    "version": 3
   },
   "file_extension": ".py",
   "mimetype": "text/x-python",
   "name": "python",
   "nbconvert_exporter": "python",
   "pygments_lexer": "ipython3",
   "version": "3.10.8"
  },
  "orig_nbformat": 4,
  "vscode": {
   "interpreter": {
    "hash": "3c04d9cdb8b061e62a13c55916e47b4b17e40e8bc7fae3a149ed0086f03717bd"
   }
  }
 },
 "nbformat": 4,
 "nbformat_minor": 2
}
