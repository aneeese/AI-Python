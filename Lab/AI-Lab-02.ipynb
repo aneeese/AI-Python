{
 "cells": [
  {
   "cell_type": "code",
   "execution_count": 4,
   "metadata": {},
   "outputs": [
    {
     "name": "stdout",
     "output_type": "stream",
     "text": [
      "Enter objects of first list: \n",
      "Enter objects of second list: \n",
      "[1, 2, 5, 3, 4, 5, 7, 8, 9, 3]\n"
     ]
    }
   ],
   "source": [
    "# Activity 01\n",
    "\n",
    "myList = []\n",
    "print(\"Enter objects of first list: \")\n",
    "for i in range(5):\n",
    "    val = int(input(\"Enter a value: \"))\n",
    "    myList.append(val)\n",
    "    \n",
    "myList2 = []\n",
    "print(\"Enter objects of second list: \")\n",
    "for i in range(5):\n",
    "    val = int(input(\"Enter a value: \"))\n",
    "    myList2.append(val)\n",
    "    \n",
    "list3 = myList + myList2\n",
    "print(list3)"
   ]
  },
  {
   "cell_type": "code",
   "execution_count": 6,
   "metadata": {},
   "outputs": [
    {
     "name": "stdout",
     "output_type": "stream",
     "text": [
      "True\n"
     ]
    }
   ],
   "source": [
    "# Activity 02\n",
    "\n",
    "def isPalindrome(word):\n",
    "    temp = word[::-1]\n",
    "    if temp.capitalize() == word.capitalize():\n",
    "        return True\n",
    "    else:\n",
    "        return False\n",
    "print(isPalindrome(\"Dad\"))"
   ]
  },
  {
   "cell_type": "code",
   "execution_count": 4,
   "metadata": {},
   "outputs": [
    {
     "name": "stdout",
     "output_type": "stream",
     "text": [
      "[[1, 2, 3], [4, 5, 6], [7, 8, 9]]\n"
     ]
    }
   ],
   "source": [
    "# Activity 03\n",
    "\n",
    "a = [[1, 0, 0], [0, 1, 0], [0, 0, 1]]\n",
    "b = [[1, 2, 3], [4, 5, 6], [7, 8, 9]]\n",
    "c = []\n",
    "\n",
    "for indrow in range(3):\n",
    "    c.append([])\n",
    "    for indcol in range(3):\n",
    "        c[indrow].append(0)\n",
    "        for indaux in range(3):\n",
    "            c[indrow][indcol] += a[indrow][indaux] * b[indcol][indaux]\n",
    "            \n",
    "print(c)"
   ]
  },
  {
   "cell_type": "code",
   "execution_count": 29,
   "metadata": {},
   "outputs": [
    {
     "name": "stdout",
     "output_type": "stream",
     "text": [
      "9.508270432752164\n"
     ]
    }
   ],
   "source": [
    "# Activity 04\n",
    "\n",
    "def perimeter(listing):\n",
    "    leng = len(listing)\n",
    "    perimeter = 0\n",
    "    for i in range(0, leng - 1):\n",
    "        dist  = (((listing[i][0] - listing[i + 1][0]) ** 2) + ((listing[i][1] - listing[i + 1][1]) ** 2)) ** 0.5\n",
    "        perimeter += dist\n",
    "        perimeter += (((listing[0][0] - listing[leng - 1][0]) ** 2) + ((listing[0][1] - listing[leng - 1][1]) ** 2)) ** 0.5\n",
    "        return perimeter\n",
    "L = [(1, 3), (2, 7), (3, 9), (-1, 8)]\n",
    "print(perimeter(L))"
   ]
  },
  {
   "cell_type": "code",
   "execution_count": 32,
   "metadata": {},
   "outputs": [
    {
     "name": "stdout",
     "output_type": "stream",
     "text": [
      "{0, 1, 2, 3, 6, 7, 8, 9}\n"
     ]
    }
   ],
   "source": [
    "# Activity 05\n",
    "\n",
    "def symmDiff(a, b):\n",
    "    e = set()\n",
    "    for i in a:\n",
    "        if i not in b:\n",
    "            e.add(i)\n",
    "    for i in b:\n",
    "        if i not in a:\n",
    "            e.add(i)\n",
    "    return e\n",
    "set1 = {0, 1, 2, 3, 4, 5}\n",
    "set2 = {4, 5, 6, 7, 8, 9}\n",
    "print(symmDiff(set1, set2))"
   ]
  },
  {
   "cell_type": "code",
   "execution_count": 34,
   "metadata": {},
   "outputs": [
    {
     "name": "stdout",
     "output_type": "stream",
     "text": [
      "03015316416\n"
     ]
    }
   ],
   "source": [
    "# Activity 06\n",
    "\n",
    "sampleDict = {\n",
    "    (\"M\", \"Anees\"): \"03015316416\",\n",
    "    (\"M\", \"Atiq\"): \"04343434343\",\n",
    "    (\"Fahad\", \"Ali\"): \"012324345\"\n",
    "}\n",
    "\n",
    "firstName = input(\"Enter first name: \")\n",
    "lastName = input(\"Enter last name: \")\n",
    "searchTuple = (firstName, lastName)\n",
    "if searchTuple in sampleDict:\n",
    "    print(sampleDict[searchTuple])\n",
    "else: \n",
    "    print(\"Number not found\")"
   ]
  },
  {
   "cell_type": "code",
   "execution_count": 35,
   "metadata": {},
   "outputs": [
    {
     "name": "stdout",
     "output_type": "stream",
     "text": [
      "Enter objects of first list: \n",
      "Enter objects of second list: \n",
      "[0, 1, 2, 3, 4, 5, 5, 6, 7, 9]\n"
     ]
    }
   ],
   "source": [
    "# Lab Task 01\n",
    "\n",
    "myList = []\n",
    "print(\"Enter objects of first list: \")\n",
    "for i in range(5):\n",
    "    val = int(input(\"Enter a value: \"))\n",
    "    myList.append(val)\n",
    "    \n",
    "myList2 = []\n",
    "print(\"Enter objects of second list: \")\n",
    "for i in range(5):\n",
    "    val = int(input(\"Enter a value: \"))\n",
    "    myList2.append(val)\n",
    "    \n",
    "def selectionSort(array, size):\n",
    "    for i in range(size):\n",
    "        min_index = i\n",
    "        for i in range(i + 1, size):\n",
    "            if array[i] < array[min_index]:\n",
    "                min_index = i\n",
    "        (array[i], array[min_index]) = (array[min_index], array[i])\n",
    "\n",
    "list3 = myList + myList2\n",
    "selectionSort(list3, len(list3))\n",
    "print(list3)\n"
   ]
  },
  {
   "cell_type": "code",
   "execution_count": 36,
   "metadata": {},
   "outputs": [
    {
     "name": "stdout",
     "output_type": "stream",
     "text": [
      "Enter objects of list: \n",
      "Smallest 0\n",
      "Largest 4\n"
     ]
    }
   ],
   "source": [
    "# Lab Task 02\n",
    "\n",
    "myList = []\n",
    "print(\"Enter objects of list: \")\n",
    "for i in range(5):\n",
    "    val = int(input(\"Enter a value: \"))\n",
    "    myList.append(val)\n",
    "\n",
    "smallest = myList[0]\n",
    "largest = myList[0]\n",
    "\n",
    "for i in range(len(myList)):\n",
    "    if myList[i] > largest:\n",
    "        largest = myList[i]\n",
    "    elif myList[i] < smallest:\n",
    "        smallest = myList[i]\n",
    "        \n",
    "print(\"Smallest\", smallest)\n",
    "print(\"Largest\", largest)\n"
   ]
  },
  {
   "cell_type": "code",
   "execution_count": 47,
   "metadata": {},
   "outputs": [
    {
     "name": "stdout",
     "output_type": "stream",
     "text": [
      "Welcome to the birthday dictionary. We know the birthdays of: \n",
      "Anees\n",
      "Atiq\n",
      "Fahad\n",
      "Anees birthday is 16-July\n"
     ]
    }
   ],
   "source": [
    "# Lab Task 03\n",
    "\n",
    "Dict = { \"Anees\" : '16-July', \"Atiq\" : '12-june', \"Fahad\" : '5-Apr'}\n",
    "a = list(Dict.keys())\n",
    "print(\"Welcome to the birthday dictionary. We know the birthdays of: \")\n",
    "for i in range(len(a)):\n",
    "    print(a[i])\n",
    "    \n",
    "inp = input(\"Who birthday do you want to look up?\")\n",
    "if inp in Dict:\n",
    "    print(inp, \"birthday is\", Dict[inp])\n"
   ]
  },
  {
   "cell_type": "code",
   "execution_count": 51,
   "metadata": {},
   "outputs": [
    {
     "name": "stdout",
     "output_type": "stream",
     "text": [
      "{'name': 'Kelly', 'salary': 8000}\n"
     ]
    }
   ],
   "source": [
    "# Lab Task 04\n",
    "\n",
    "sample_dict = {\n",
    "    \"name\": \"Kelly\",\n",
    "    \"age\": 25,\n",
    "    \"salary\": 8000,\n",
    "    \"city\": \"New york\"}\n",
    "res = {key: sample_dict[key] for key in sample_dict.keys() & {'name', 'salary'}}\n",
    "print(res)"
   ]
  }
 ],
 "metadata": {
  "kernelspec": {
   "display_name": "Python 3.10.7 64-bit (microsoft store)",
   "language": "python",
   "name": "python3"
  },
  "language_info": {
   "codemirror_mode": {
    "name": "ipython",
    "version": 3
   },
   "file_extension": ".py",
   "mimetype": "text/x-python",
   "name": "python",
   "nbconvert_exporter": "python",
   "pygments_lexer": "ipython3",
   "version": "3.10.7"
  },
  "orig_nbformat": 4,
  "vscode": {
   "interpreter": {
    "hash": "3c04d9cdb8b061e62a13c55916e47b4b17e40e8bc7fae3a149ed0086f03717bd"
   }
  }
 },
 "nbformat": 4,
 "nbformat_minor": 2
}
