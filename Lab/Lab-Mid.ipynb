{
 "cells": [
  {
   "cell_type": "code",
   "execution_count": 5,
   "metadata": {},
   "outputs": [
    {
     "name": "stdout",
     "output_type": "stream",
     "text": [
      "Solution: ['A', 'F', 'G', 'I', 'J']\n"
     ]
    }
   ],
   "source": [
    "# LAB MID BCS-5A\n",
    "# FA20-BCS-045\n",
    "# MUHAMMAD ANEES\n",
    "\n",
    "import math\n",
    "\n",
    "class Node:\n",
    "    def __init__(self, state, parent, actions, heuristic, totalCost):\n",
    "        self.state = state\n",
    "        self.parent = parent\n",
    "        self.actions = actions\n",
    "        self.heuristic = heuristic\n",
    "        self.totalCost = totalCost\n",
    "        \n",
    "def findMin(frontier):\n",
    "    minV = math.inf\n",
    "    node = ''\n",
    "    for i in frontier:\n",
    "        if minV > frontier[i][1]:\n",
    "            minV = frontier[i][1]\n",
    "            node = i\n",
    "    return node\n",
    "\n",
    "def actionSequence(graph, goalState):\n",
    "    solution = [goalState]\n",
    "    currentParent = graph[goalState].parent\n",
    "    while currentParent != None:\n",
    "        solution.append(currentParent)\n",
    "        currentParent = graph[currentParent].parent\n",
    "    solution.reverse()\n",
    "    return solution\n",
    "\n",
    "def Astar():\n",
    "    initialState = 'A'\n",
    "    goalState = 'J'\n",
    "    \n",
    "    graph = {\n",
    "        'A': Node('A', None, [('B', 6), ('F', 3)], 10, 0),\n",
    "        'B': Node('B', None, [('A', 6), ('C', 3), ('D', 2)], 8, 0),\n",
    "        'C': Node('C', None, [('B', 3), ('D', 1), ('E', 5)], 5, 0),\n",
    "        'D': Node('D', None, [('B', 2), ('E', 8), ('C', 1)], 7, 0),\n",
    "        'E': Node('E', None, [('C', 5), ('D', 8), ('I', 5), ('J', 5)], 3, 0),\n",
    "        'F': Node('F', None, [('A', 3), ('G', 1), ('H', 7)], 6, 0),\n",
    "        'G': Node('G', None, [('F', 1), ('I', 3)], 5, 0),\n",
    "        'H': Node('H', None, [('F', 7), ('I', 2)], 3, 0),\n",
    "        'I': Node('I', None, [('G', 3), ('H', 2), ('E', 5), ('J', 3)], 1, 0),\n",
    "        'J': Node('J', None, [('E', 5), ('I', 3)], 0, 0),\n",
    "    }\n",
    "\n",
    "    frontier = dict()\n",
    "    heuristicCost = graph[initialState].heuristic\n",
    "    frontier[initialState] = (None, heuristicCost)\n",
    "    explored = dict()\n",
    "\n",
    "    while len(frontier) != 0:\n",
    "        currentNode = findMin(frontier)\n",
    "        del frontier[currentNode]\n",
    "        if graph[currentNode].state == goalState:\n",
    "            return actionSequence(graph, goalState)\n",
    "        heuristicCost = graph[currentNode].heuristic\n",
    "        currentCost = graph[currentNode].totalCost\n",
    "        explored[currentNode] = (graph[currentNode].parent, heuristicCost + currentCost)\n",
    "        for child in graph[currentNode].actions:\n",
    "            currentCost = child[1] + graph[currentNode].totalCost\n",
    "            heuristicCost = graph[child[0]].heuristic\n",
    "            if child[0] in explored:\n",
    "                if graph[child[0]].parent == currentNode or child[0] == initialState or explored[child[0]][1] <= currentCost + heuristicCost:\n",
    "                    continue\n",
    "                \n",
    "            if child[0] not in frontier:\n",
    "                graph[child[0]].parent = currentNode\n",
    "                graph[child[0]].totalCost = currentCost\n",
    "                frontier[child[0]] = (graph[child[0]].parent, currentCost + heuristicCost)\n",
    "            else:\n",
    "                if frontier[child[0]][1] < currentCost + heuristicCost:\n",
    "                    graph[child[0]].parent = frontier[child[0]][0]\n",
    "                    graph[child[0]].totalCost = frontier[child[0]][1] - heuristicCost\n",
    "                else:\n",
    "                    frontier[child[0]] = (currentNode, currentCost + heuristicCost)\n",
    "                    graph[child[0]].parent = frontier[child[0]][0]\n",
    "                    graph[child[0]].totalCost = currentCost\n",
    "\n",
    "print(\"Solution:\", Astar())"
   ]
  }
 ],
 "metadata": {
  "kernelspec": {
   "display_name": "Python 3.10.8 64-bit (microsoft store)",
   "language": "python",
   "name": "python3"
  },
  "language_info": {
   "codemirror_mode": {
    "name": "ipython",
    "version": 3
   },
   "file_extension": ".py",
   "mimetype": "text/x-python",
   "name": "python",
   "nbconvert_exporter": "python",
   "pygments_lexer": "ipython3",
   "version": "3.10.8"
  },
  "orig_nbformat": 4,
  "vscode": {
   "interpreter": {
    "hash": "3c04d9cdb8b061e62a13c55916e47b4b17e40e8bc7fae3a149ed0086f03717bd"
   }
  }
 },
 "nbformat": 4,
 "nbformat_minor": 2
}
